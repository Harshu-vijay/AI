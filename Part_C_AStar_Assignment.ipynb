{
 "cells": [
  {
   "cell_type": "markdown",
   "id": "4b62cc1d",
   "metadata": {},
   "source": [
    "# Part C – A* Search Programming Task\n",
    "\n",
    "This notebook implements A* search on a 2D maze, tests three heuristic cases,  \n",
    "and records the path, cost, and optimality for each."
   ]
  },
  {
   "cell_type": "code",
   "execution_count": null,
   "id": "d88292ff",
   "metadata": {},
   "outputs": [],
   "source": [
    "import heapq\n",
    "import matplotlib.pyplot as plt\n",
    "import numpy as np"
   ]
  },
  {
   "cell_type": "code",
   "execution_count": null,
   "id": "7873df5e",
   "metadata": {},
   "outputs": [],
   "source": [
    "# Maze: 1 = wall, 0 = free cell, 'A' = start, 'B' = goal\n",
    "maze = [\n",
    "    [0, 0, 0, 1, 0],\n",
    "    [1, 1, 0, 1, 0],\n",
    "    ['A', 0, 0, 0, 'B'],\n",
    "    [0, 1, 1, 1, 0],\n",
    "    [0, 0, 0, 0, 0]\n",
    "]\n",
    "\n",
    "rows, cols = len(maze), len(maze[0])\n",
    "\n",
    "for i in range(rows):\n",
    "    for j in range(cols):\n",
    "        if maze[i][j] == 'A':\n",
    "            start = (i, j)\n",
    "            maze[i][j] = 0\n",
    "        if maze[i][j] == 'B':\n",
    "            goal = (i, j)\n",
    "            maze[i][j] = 0"
   ]
  },
  {
   "cell_type": "code",
   "execution_count": null,
   "id": "e00a132f",
   "metadata": {},
   "outputs": [],
   "source": [
    "def manhattan(a, b):\n",
    "    return abs(a[0]-b[0]) + abs(a[1]-b[1])\n",
    "\n",
    "def manhattan_1_5(a, b):\n",
    "    # Multiplied by 1.5: may overestimate → inadmissible\n",
    "    return 1.5 * manhattan(a, b)\n",
    "\n",
    "def inconsistent(a, b):\n",
    "    # Mostly Manhattan, but deliberately break consistency for one cell\n",
    "    if a == (2,1):\n",
    "        return 10\n",
    "    return manhattan(a, b)"
   ]
  },
  {
   "cell_type": "code",
   "execution_count": null,
   "id": "79cd0ca8",
   "metadata": {},
   "outputs": [],
   "source": [
    "def astar(maze, start, goal, heuristic):\n",
    "    rows, cols = len(maze), len(maze[0])\n",
    "    open_set = []\n",
    "    heapq.heappush(open_set, (0, start))\n",
    "    came_from = {}\n",
    "    g = {start: 0}\n",
    "\n",
    "    while open_set:\n",
    "        f, current = heapq.heappop(open_set)\n",
    "        if current == goal:\n",
    "            path = []\n",
    "            while current in came_from:\n",
    "                path.append(current)\n",
    "                current = came_from[current]\n",
    "            path.append(start)\n",
    "            return path[::-1], g[goal]\n",
    "\n",
    "        for dx, dy in [(1,0),(-1,0),(0,1),(0,-1)]:\n",
    "            nx, ny = current[0]+dx, current[1]+dy\n",
    "            neighbor = (nx, ny)\n",
    "            if 0 <= nx < rows and 0 <= ny < cols and maze[nx][ny] == 0:\n",
    "                tentative_g = g[current] + 1\n",
    "                if neighbor not in g or tentative_g < g[neighbor]:\n",
    "                    g[neighbor] = tentative_g\n",
    "                    f = tentative_g + heuristic(neighbor, goal)\n",
    "                    heapq.heappush(open_set, (f, neighbor))\n",
    "                    came_from[neighbor] = current\n",
    "    return None, float(\"inf\")"
   ]
  },
  {
   "cell_type": "code",
   "execution_count": null,
   "id": "76a87dfa",
   "metadata": {},
   "outputs": [],
   "source": [
    "def show_path(path):\n",
    "    grid = np.array(maze, dtype=int)\n",
    "    for (x,y) in path:\n",
    "        grid[x][y] = 2\n",
    "    plt.imshow(grid, cmap=\"coolwarm\")\n",
    "    plt.title(\"Path (red=path, blue=walls)\")\n",
    "    plt.show()"
   ]
  },
  {
   "cell_type": "markdown",
   "id": "a140a8b5",
   "metadata": {},
   "source": [
    "## Case 1 – Manhattan Distance (Admissible & Consistent)\n",
    "\n",
    "Manhattan distance never overestimates the true path cost in a 4-direction grid  \n",
    "and satisfies consistency. A* should find the **optimal** path here."
   ]
  },
  {
   "cell_type": "code",
   "execution_count": null,
   "id": "b9351c7c",
   "metadata": {},
   "outputs": [],
   "source": [
    "path, cost = astar(maze, start, goal, manhattan)\n",
    "print(\"Case 1 Path:\", path)\n",
    "print(\"Case 1 Cost:\", cost)\n",
    "show_path(path)"
   ]
  },
  {
   "cell_type": "markdown",
   "id": "9dc0c245",
   "metadata": {},
   "source": [
    "## Case 2 – 1.5 × Manhattan Distance (Inadmissible)\n",
    "\n",
    "Multiplying by 1.5 may overestimate the true cost → inadmissible.  \n",
    "A* might return a **non-optimal** path under this heuristic."
   ]
  },
  {
   "cell_type": "code",
   "execution_count": null,
   "id": "f35cff3c",
   "metadata": {},
   "outputs": [],
   "source": [
    "path, cost = astar(maze, start, goal, manhattan_1_5)\n",
    "print(\"Case 2 Path:\", path)\n",
    "print(\"Case 2 Cost:\", cost)\n",
    "show_path(path)"
   ]
  },
  {
   "cell_type": "markdown",
   "id": "dfccbd5f",
   "metadata": {},
   "source": [
    "## Case 3 – Inconsistent Heuristic\n",
    "\n",
    "This heuristic breaks the triangle inequality for one neighbor.  \n",
    "A* may still find the optimal path but could **reopen** nodes or expand inefficiently."
   ]
  },
  {
   "cell_type": "code",
   "execution_count": null,
   "id": "5a9642c1",
   "metadata": {},
   "outputs": [],
   "source": [
    "path, cost = astar(maze, start, goal, inconsistent)\n",
    "print(\"Case 3 Path:\", path)\n",
    "print(\"Case 3 Cost:\", cost)\n",
    "show_path(path)"
   ]
  }
 ],
 "metadata": {
  "language_info": {
   "name": "python"
  }
 },
 "nbformat": 4,
 "nbformat_minor": 5
}
